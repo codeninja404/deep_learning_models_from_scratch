{
  "nbformat": 4,
  "nbformat_minor": 0,
  "metadata": {
    "colab": {
      "name": "soham_sequential_model.ipynb",
      "provenance": [],
      "authorship_tag": "ABX9TyP0kXweoudu63K/ymwqs91/",
      "include_colab_link": true
    },
    "kernelspec": {
      "name": "python3",
      "display_name": "Python 3"
    },
    "language_info": {
      "name": "python"
    }
  },
  "cells": [
    {
      "cell_type": "markdown",
      "metadata": {
        "id": "view-in-github",
        "colab_type": "text"
      },
      "source": [
        "<a href=\"https://colab.research.google.com/github/codeninja404/snapchat_clone/blob/main/soham_sequential_model.ipynb\" target=\"_parent\"><img src=\"https://colab.research.google.com/assets/colab-badge.svg\" alt=\"Open In Colab\"/></a>"
      ]
    },
    {
      "cell_type": "markdown",
      "metadata": {
        "id": "lqWbjCkrtpXs"
      },
      "source": [
        "Importing Libraries "
      ]
    },
    {
      "cell_type": "code",
      "metadata": {
        "id": "fC41cB7jtjzW"
      },
      "source": [
        "import tensorflow as tf                                                         # using tensorflow version 2.4.1\n",
        "import pandas\n",
        "from keras import backend as K\n",
        "from matplotlib import pyplot\n",
        "import numpy as np"
      ],
      "execution_count": null,
      "outputs": []
    },
    {
      "cell_type": "code",
      "metadata": {
        "colab": {
          "base_uri": "https://localhost:8080/",
          "height": 35
        },
        "id": "i3CN9vLpwAa0",
        "outputId": "a0a88d54-a186-449a-9fbd-8e38c390121e"
      },
      "source": [
        "tf.__version__"
      ],
      "execution_count": null,
      "outputs": [
        {
          "output_type": "execute_result",
          "data": {
            "application/vnd.google.colaboratory.intrinsic+json": {
              "type": "string"
            },
            "text/plain": [
              "'2.4.1'"
            ]
          },
          "metadata": {
            "tags": []
          },
          "execution_count": 4
        }
      ]
    },
    {
      "cell_type": "markdown",
      "metadata": {
        "id": "qkzLPR_AuEvY"
      },
      "source": [
        "Cifar 10 Dataset <br>\n",
        "The CIFAR-10 dataset consists of 60000 32x32 colour images in 10 classes, with\n",
        "6000 images per class. There are 50000 training images and 10000 test images. <br>\n",
        "airplane : 0 <br>\n",
        "automobile : 1 <br>\n",
        "bird : 2 <br>\n",
        "cat : 3 <br>\n",
        "deer : 4 <br>\n",
        "dog : 5 <br>\n",
        "frog : 6 <br>\n",
        "horse : 7 <br>\n",
        "ship : 8 <br>\n",
        "truck : 9 <br>"
      ]
    },
    {
      "cell_type": "code",
      "metadata": {
        "colab": {
          "base_uri": "https://localhost:8080/"
        },
        "id": "favOCOIxvBfe",
        "outputId": "6414312b-35bf-477d-cd58-f2bfdb43acd4"
      },
      "source": [
        "from tensorflow.keras.datasets import cifar10                                   #importing dataset from keras\n",
        "(x_train, y_train), (x_test, y_test) = cifar10.load_data()                      #loading the dataset"
      ],
      "execution_count": null,
      "outputs": [
        {
          "output_type": "stream",
          "text": [
            "Downloading data from https://www.cs.toronto.edu/~kriz/cifar-10-python.tar.gz\n",
            "170500096/170498071 [==============================] - 3s 0us/step\n"
          ],
          "name": "stdout"
        }
      ]
    },
    {
      "cell_type": "markdown",
      "metadata": {
        "id": "OxpEfI1WwM5B"
      },
      "source": [
        "Preprocessing the data "
      ]
    },
    {
      "cell_type": "code",
      "metadata": {
        "id": "WFYTRcalvZp-"
      },
      "source": [
        "def train_preprocess(image, label):\n",
        "    image  = tf.image.random_flip_left_right(image)                             #Flip an image horizontally (left to right). Outputs the contents of image flipped along the width dimension.\n",
        "    image = tf.image.random_brightness(image, 0.2)                              #Adjust the brightness of images by a random factor. Takes args as image, max_delta and seed. Returns the brightness adjusted images\n",
        "    image  = tf.image.random_saturation(image, lower=0.5, upper=1.5)            #Adjust the saturation of RGB images by a random factor.Takes args image, lower, upper, seed. Returns Adjusted images, same shape and DType as image.\n",
        "    return image, label"
      ],
      "execution_count": null,
      "outputs": []
    },
    {
      "cell_type": "code",
      "metadata": {
        "id": "EJY6XM2Rx8JV"
      },
      "source": [
        "def parse_data(image, label):\n",
        "    image = tf.image.convert_image_dtype(image, tf.float32)                     #Convert image to dtype, scaling its values if needed. Takes args image, dtype, saturate, name. Returns image, converted to dtype.\n",
        "    return image, label"
      ],
      "execution_count": null,
      "outputs": []
    },
    {
      "cell_type": "code",
      "metadata": {
        "id": "YnSOrzVSyqZ8"
      },
      "source": [
        "batch_size = 64                                                                 #Batch size refers to the number of training examples utilized in one iteration. In our case 64\n",
        "y_t = tf.keras.utils.to_categorical(y_train, 10)                                #Converts a class vector (integers) to binary class matrix. Takes args y, num_classes, dtype. Returns a binary matrix representation of the input. The classes axis is placed last.\n",
        "data = tf.data.Dataset.from_tensor_slices((x_train, y_t))                       #Creates a Dataset whose elements are slices of the given tensors. Takes args tensors. Returns dataset.\n",
        "data = data.shuffle(50000)                                                      #Shuffling data serves the purpose of reducing variance and making sure that models remain general and overfit less.\n",
        "data = data.map(parse_data,num_parallel_calls= 4)                               #When you use Dataset.map(map_func), TensorFlow defines a subgraph for all the ops created in the function map_func, and arranges to execute it efficiently in the same session as the rest of your graph.\n",
        "data = data.map(train_preprocess, num_parallel_calls=4)\n",
        "data = data.padded_batch(batch_size)                                            # Pad to the smallest per-batch size that fits all elements. Takes args batch_size, padded_shapes, padding_values, drop_remainder. Returns Dataset.\n",
        "#data = data.repeat()"
      ],
      "execution_count": null,
      "outputs": []
    },
    {
      "cell_type": "code",
      "metadata": {
        "colab": {
          "base_uri": "https://localhost:8080/"
        },
        "id": "mOQg165nf6Gw",
        "outputId": "ed3a4743-76cb-4e56-a2dd-58b7a8cdbb70"
      },
      "source": [
        "data"
      ],
      "execution_count": null,
      "outputs": [
        {
          "output_type": "execute_result",
          "data": {
            "text/plain": [
              "<PaddedBatchDataset shapes: ((None, 32, 32, 3), (None, 10)), types: (tf.float32, tf.float32)>"
            ]
          },
          "metadata": {
            "tags": []
          },
          "execution_count": 12
        }
      ]
    },
    {
      "cell_type": "markdown",
      "metadata": {
        "id": "WafK0fT2gq7a"
      },
      "source": [
        "Sequential Model <br>\n",
        "Conv2D: The input to a Conv2D layer must be four-dimensional. The first dimension defines the samples. The second dimension defines the number of rows. The third dimension defines the number of columns. Fourth decides the number of channels.<br>\n",
        "Maxpooling2D: Maximum pooling, or max pooling, is a pooling operation that calculates the maximum, or largest, value in each patch of each feature map."
      ]
    },
    {
      "cell_type": "code",
      "metadata": {
        "id": "8USFMj_ygjY6"
      },
      "source": [
        "model = tf.keras.Sequential([\n",
        "    tf.keras.layers.Conv2D(128, (3, 3), activation='relu', kernel_initializer='he_uniform', padding='same', input_shape=(32, 32, 3)),         # Input shape: 4+D tensor with shape: batch_shape + (channels, rows, cols) if data_format='channels_first' or 4+D tensor with shape: batch_shape + (rows, cols, channels) if data_format='channels_last'. Output shape: 4+D tensor with shape: batch_shape + (filters, new_rows, new_cols) if data_format='channels_first' or 4+D tensor with shape: batch_shape + (new_rows, new_cols, filters) if data_format='channels_last'. rows and cols values might have changed due to padding.\n",
        "    tf.keras.layers.MaxPooling2D(2, 2),                                                                                                       # Input shape: If data_format='channels_last': 4D tensor with shape (batch_size, rows, cols, channels). Output shape: If data_format='channels_last': 4D tensor with shape (batch_size, pooled_rows, pooled_cols, channels).\n",
        "    tf.keras.layers.Conv2D(64, (3, 3), activation='relu', kernel_initializer='he_uniform', padding='same'),\n",
        "    tf.keras.layers.MaxPooling2D(2, 2),\n",
        "    tf.keras.layers.Conv2D(64, (3, 3), activation='relu', kernel_initializer='he_uniform', padding='same'),\n",
        "    tf.keras.layers.MaxPooling2D(2, 2),\n",
        "    tf.keras.layers.Flatten(),\n",
        "    tf.keras.layers.Dense(512, activation='relu', kernel_initializer='he_uniform'),\n",
        "    tf.keras.layers.Dense(10, activation='softmax'),\n",
        "               \n",
        "])"
      ],
      "execution_count": null,
      "outputs": []
    },
    {
      "cell_type": "code",
      "metadata": {
        "colab": {
          "base_uri": "https://localhost:8080/"
        },
        "id": "iJula_5qh7cd",
        "outputId": "e1bc8840-d8fc-477f-8625-b307103af321"
      },
      "source": [
        "model.summary()"
      ],
      "execution_count": null,
      "outputs": [
        {
          "output_type": "stream",
          "text": [
            "Model: \"sequential\"\n",
            "_________________________________________________________________\n",
            "Layer (type)                 Output Shape              Param #   \n",
            "=================================================================\n",
            "conv2d (Conv2D)              (None, 32, 32, 128)       3584      \n",
            "_________________________________________________________________\n",
            "max_pooling2d (MaxPooling2D) (None, 16, 16, 128)       0         \n",
            "_________________________________________________________________\n",
            "conv2d_1 (Conv2D)            (None, 16, 16, 64)        73792     \n",
            "_________________________________________________________________\n",
            "max_pooling2d_1 (MaxPooling2 (None, 8, 8, 64)          0         \n",
            "_________________________________________________________________\n",
            "conv2d_2 (Conv2D)            (None, 8, 8, 64)          36928     \n",
            "_________________________________________________________________\n",
            "max_pooling2d_2 (MaxPooling2 (None, 4, 4, 64)          0         \n",
            "_________________________________________________________________\n",
            "flatten (Flatten)            (None, 1024)              0         \n",
            "_________________________________________________________________\n",
            "dense (Dense)                (None, 512)               524800    \n",
            "_________________________________________________________________\n",
            "dense_1 (Dense)              (None, 10)                5130      \n",
            "=================================================================\n",
            "Total params: 644,234\n",
            "Trainable params: 644,234\n",
            "Non-trainable params: 0\n",
            "_________________________________________________________________\n"
          ],
          "name": "stdout"
        }
      ]
    },
    {
      "cell_type": "markdown",
      "metadata": {
        "id": "yU51FDyMkfHt"
      },
      "source": [
        "Adam Optimizer:<br>\n",
        "1.Adam is a replacement optimization algorithm for stochastic gradient descent for training deep learning models.<br>\n",
        "2.Adam combines the best properties of the AdaGrad and RMSProp algorithms to provide an optimization algorithm that can handle sparse gradients on noisy problems.<br>\n",
        "<br>\n",
        "Cross Entropy Loss: <br>\n",
        "1.Cross-entropy loss, or log loss, measures the performance of a classification model whose output is a probability value between 0 and 1.<br>\n",
        "2.Cross-entropy loss increases as the predicted probability diverges from the actual label"
      ]
    },
    {
      "cell_type": "code",
      "metadata": {
        "id": "gXyTv1Q5h92_"
      },
      "source": [
        "model.compile(optimizer = \"adam\", \n",
        "              loss = 'binary_crossentropy', \n",
        "              metrics = ['accuracy'])"
      ],
      "execution_count": null,
      "outputs": []
    },
    {
      "cell_type": "code",
      "metadata": {
        "colab": {
          "base_uri": "https://localhost:8080/"
        },
        "id": "Y7yZN0SAiLD1",
        "outputId": "76257b2c-0c57-4dcd-b3a7-6bd2918128ec"
      },
      "source": [
        "history = model.fit(data, epochs = 100, steps_per_epoch=20)                     #Trains the model for a fixed number of epochs (iterations on a dataset). Returns a History object. Its History.history attribute is a record of training loss values and metrics values at successive epochs, as well as validation loss values and validation metrics values (if applicable)."
      ],
      "execution_count": null,
      "outputs": [
        {
          "output_type": "stream",
          "text": [
            "Epoch 1/100\n",
            "20/20 [==============================] - 7s 323ms/step - loss: 0.4046 - accuracy: 0.1274\n",
            "Epoch 2/100\n",
            "20/20 [==============================] - 6s 322ms/step - loss: 0.3157 - accuracy: 0.2018\n",
            "Epoch 3/100\n",
            "20/20 [==============================] - 6s 324ms/step - loss: 0.2950 - accuracy: 0.3061\n",
            "Epoch 4/100\n",
            "20/20 [==============================] - 6s 321ms/step - loss: 0.2743 - accuracy: 0.3497\n",
            "Epoch 5/100\n",
            "20/20 [==============================] - 6s 322ms/step - loss: 0.2750 - accuracy: 0.3402\n",
            "Epoch 6/100\n",
            "20/20 [==============================] - 6s 323ms/step - loss: 0.2673 - accuracy: 0.3374\n",
            "Epoch 7/100\n",
            "20/20 [==============================] - 6s 322ms/step - loss: 0.2594 - accuracy: 0.3947\n",
            "Epoch 8/100\n",
            "20/20 [==============================] - 6s 321ms/step - loss: 0.2477 - accuracy: 0.4323\n",
            "Epoch 9/100\n",
            "20/20 [==============================] - 6s 322ms/step - loss: 0.2512 - accuracy: 0.4300\n",
            "Epoch 10/100\n",
            "20/20 [==============================] - 6s 320ms/step - loss: 0.2375 - accuracy: 0.4563\n",
            "Epoch 11/100\n",
            "20/20 [==============================] - 6s 323ms/step - loss: 0.2407 - accuracy: 0.4360\n",
            "Epoch 12/100\n",
            "20/20 [==============================] - 6s 321ms/step - loss: 0.2369 - accuracy: 0.4495\n",
            "Epoch 13/100\n",
            "20/20 [==============================] - 6s 322ms/step - loss: 0.2317 - accuracy: 0.4583\n",
            "Epoch 14/100\n",
            "20/20 [==============================] - 6s 323ms/step - loss: 0.2208 - accuracy: 0.5036\n",
            "Epoch 15/100\n",
            "20/20 [==============================] - 6s 322ms/step - loss: 0.2265 - accuracy: 0.4740\n",
            "Epoch 16/100\n",
            "20/20 [==============================] - 6s 324ms/step - loss: 0.2173 - accuracy: 0.5132\n",
            "Epoch 17/100\n",
            "20/20 [==============================] - 6s 323ms/step - loss: 0.2229 - accuracy: 0.5189\n",
            "Epoch 18/100\n",
            "20/20 [==============================] - 6s 324ms/step - loss: 0.2156 - accuracy: 0.5096\n",
            "Epoch 19/100\n",
            "20/20 [==============================] - 7s 326ms/step - loss: 0.2113 - accuracy: 0.5397\n",
            "Epoch 20/100\n",
            "20/20 [==============================] - 7s 327ms/step - loss: 0.2128 - accuracy: 0.5171\n",
            "Epoch 21/100\n",
            "20/20 [==============================] - 7s 325ms/step - loss: 0.2201 - accuracy: 0.4688\n",
            "Epoch 22/100\n",
            "20/20 [==============================] - 6s 324ms/step - loss: 0.2109 - accuracy: 0.5297\n",
            "Epoch 23/100\n",
            "20/20 [==============================] - 6s 323ms/step - loss: 0.2115 - accuracy: 0.5194\n",
            "Epoch 24/100\n",
            "20/20 [==============================] - 6s 323ms/step - loss: 0.1986 - accuracy: 0.5702\n",
            "Epoch 25/100\n",
            "20/20 [==============================] - 7s 326ms/step - loss: 0.2000 - accuracy: 0.5663\n",
            "Epoch 26/100\n",
            "20/20 [==============================] - 6s 324ms/step - loss: 0.1966 - accuracy: 0.5703\n",
            "Epoch 27/100\n",
            "20/20 [==============================] - 6s 325ms/step - loss: 0.2047 - accuracy: 0.5519\n",
            "Epoch 28/100\n",
            "20/20 [==============================] - 6s 323ms/step - loss: 0.1945 - accuracy: 0.5807\n",
            "Epoch 29/100\n",
            "20/20 [==============================] - 6s 322ms/step - loss: 0.1983 - accuracy: 0.5591\n",
            "Epoch 30/100\n",
            "20/20 [==============================] - 7s 325ms/step - loss: 0.2016 - accuracy: 0.5609\n",
            "Epoch 31/100\n",
            "20/20 [==============================] - 6s 324ms/step - loss: 0.1972 - accuracy: 0.5734\n",
            "Epoch 32/100\n",
            "20/20 [==============================] - 6s 324ms/step - loss: 0.1919 - accuracy: 0.5910\n",
            "Epoch 33/100\n",
            "20/20 [==============================] - 6s 322ms/step - loss: 0.1915 - accuracy: 0.5776\n",
            "Epoch 34/100\n",
            "20/20 [==============================] - 6s 322ms/step - loss: 0.1940 - accuracy: 0.5743\n",
            "Epoch 35/100\n",
            "20/20 [==============================] - 6s 323ms/step - loss: 0.1824 - accuracy: 0.6215\n",
            "Epoch 36/100\n",
            "20/20 [==============================] - 6s 321ms/step - loss: 0.1841 - accuracy: 0.5855\n",
            "Epoch 37/100\n",
            "20/20 [==============================] - 6s 323ms/step - loss: 0.1799 - accuracy: 0.6052\n",
            "Epoch 38/100\n",
            "20/20 [==============================] - 6s 321ms/step - loss: 0.1810 - accuracy: 0.5918\n",
            "Epoch 39/100\n",
            "20/20 [==============================] - 6s 324ms/step - loss: 0.1802 - accuracy: 0.6091\n",
            "Epoch 40/100\n",
            " 2/20 [==>...........................] - ETA: 1s - loss: 0.1856 - accuracy: 0.6406WARNING:tensorflow:Your input ran out of data; interrupting training. Make sure that your dataset or generator can generate at least `steps_per_epoch * epochs` batches (in this case, 2000 batches). You may need to use the repeat() function when building your dataset.\n",
            "20/20 [==============================] - 0s 7ms/step - loss: 0.1878 - accuracy: 0.6266\n"
          ],
          "name": "stdout"
        }
      ]
    },
    {
      "cell_type": "markdown",
      "metadata": {
        "id": "aC8LB6eqnYxJ"
      },
      "source": [
        "Visualizing the Model"
      ]
    },
    {
      "cell_type": "code",
      "metadata": {
        "colab": {
          "base_uri": "https://localhost:8080/",
          "height": 284
        },
        "id": "dz8yoW8pmiO6",
        "outputId": "7f72dba1-32ce-4f9b-acd7-8673556fed37"
      },
      "source": [
        "import matplotlib.pyplot as plt\n",
        "plt.imshow(x_train[0])"
      ],
      "execution_count": 19,
      "outputs": [
        {
          "output_type": "execute_result",
          "data": {
            "text/plain": [
              "<matplotlib.image.AxesImage at 0x7f6a2a279fd0>"
            ]
          },
          "metadata": {
            "tags": []
          },
          "execution_count": 19
        },
        {
          "output_type": "display_data",
          "data": {
            "image/png": "[encoded data removed]",
            "text/plain": [
              "<Figure size 432x288 with 1 Axes>"
            ]
          },
          "metadata": {
            "tags": [],
            "needs_background": "light"
          }
        }
      ]
    },
    {
      "cell_type": "code",
      "metadata": {
        "colab": {
          "base_uri": "https://localhost:8080/",
          "height": 953
        },
        "id": "eX9h_EfVm1g8",
        "outputId": "bbd2af23-4f2b-4b8b-8a94-05414de8c851"
      },
      "source": [
        "from keras.utils import plot_model\n",
        "plot_model(model)"
      ],
      "execution_count": 22,
      "outputs": [
        {
          "output_type": "execute_result",
          "data": {
            "image/png": "[encoded data removed]",
            "text/plain": [
              "<IPython.core.display.Image object>"
            ]
          },
          "metadata": {
            "tags": []
          },
          "execution_count": 22
        }
      ]
    },
    {
      "cell_type": "markdown",
      "metadata": {
        "id": "QsogYgq2neiC"
      },
      "source": [
        "Visualizing the accuracy of the model"
      ]
    },
    {
      "cell_type": "code",
      "metadata": {
        "colab": {
          "base_uri": "https://localhost:8080/",
          "height": 313
        },
        "id": "W1ds5Wpcm9nw",
        "outputId": "8e955004-e786-4655-8ea2-1bd8e7939142"
      },
      "source": [
        "plt.plot(history.history['accuracy'])\n",
        "plt.title(\"model accuracy\")\n",
        "plt.ylabel(\"accuracy\")\n",
        "plt.xlabel(\"epochs\")\n",
        "plt.legend(['train'], loc = 'upper left')\n",
        "plt.show"
      ],
      "execution_count": 23,
      "outputs": [
        {
          "output_type": "execute_result",
          "data": {
            "text/plain": [
              "<function matplotlib.pyplot.show>"
            ]
          },
          "metadata": {
            "tags": []
          },
          "execution_count": 23
        },
        {
          "output_type": "display_data",
          "data": {
            "image/png": "[encoded data removed]",
            "text/plain": [
              "<Figure size 432x288 with 1 Axes>"
            ]
          },
          "metadata": {
            "tags": [],
            "needs_background": "light"
          }
        }
      ]
    },
    {
      "cell_type": "markdown",
      "metadata": {
        "id": "Gav7WbDYnkti"
      },
      "source": [
        "Visualizing the loss of the model"
      ]
    },
    {
      "cell_type": "code",
      "metadata": {
        "colab": {
          "base_uri": "https://localhost:8080/",
          "height": 313
        },
        "id": "aLj7AGs5nIgY",
        "outputId": "4bdf9679-ba53-42ae-ca58-633efe79d6e4"
      },
      "source": [
        "plt.plot(history.history['loss'])\n",
        "plt.title('loss')\n",
        "plt.ylabel('loss')\n",
        "plt.xlabel(\"epochs\")\n",
        "plt.legend(['train'], loc = \"upper right\")"
      ],
      "execution_count": 24,
      "outputs": [
        {
          "output_type": "execute_result",
          "data": {
            "text/plain": [
              "<matplotlib.legend.Legend at 0x7f6a29caca90>"
            ]
          },
          "metadata": {
            "tags": []
          },
          "execution_count": 24
        },
        {
          "output_type": "display_data",
          "data": {
            "image/png": "[encoded data removed]",
            "text/plain": [
              "<Figure size 432x288 with 1 Axes>"
            ]
          },
          "metadata": {
            "tags": [],
            "needs_background": "light"
          }
        }
      ]
    },
    {
      "cell_type": "code",
      "metadata": {
        "id": "entlugW_nLig"
      },
      "source": [
        ""
      ],
      "execution_count": null,
      "outputs": []
    }
  ]
}